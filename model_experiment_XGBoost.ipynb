{
  "nbformat": 4,
  "nbformat_minor": 0,
  "metadata": {
    "colab": {
      "provenance": [],
      "include_colab_link": true
    },
    "kernelspec": {
      "name": "python3",
      "display_name": "Python 3"
    },
    "language_info": {
      "name": "python"
    }
  },
  "cells": [
    {
      "cell_type": "markdown",
      "metadata": {
        "id": "view-in-github",
        "colab_type": "text"
      },
      "source": [
        "<a href=\"https://colab.research.google.com/github/eghib22/Store-Sales-Forecasting/blob/main/model_experiment_XGBoost.ipynb\" target=\"_parent\"><img src=\"https://colab.research.google.com/assets/colab-badge.svg\" alt=\"Open In Colab\"/></a>"
      ]
    },
    {
      "cell_type": "code",
      "execution_count": null,
      "metadata": {
        "colab": {
          "base_uri": "https://localhost:8080/"
        },
        "id": "_1HPsAmGXy2E",
        "outputId": "2e568825-3583-42eb-acc4-198af213b5c0"
      },
      "outputs": [
        {
          "output_type": "stream",
          "name": "stdout",
          "text": [
            "Requirement already satisfied: kaggle in /usr/local/lib/python3.11/dist-packages (1.7.4.5)\n",
            "Requirement already satisfied: bleach in /usr/local/lib/python3.11/dist-packages (from kaggle) (6.2.0)\n",
            "Requirement already satisfied: certifi>=14.05.14 in /usr/local/lib/python3.11/dist-packages (from kaggle) (2025.6.15)\n",
            "Requirement already satisfied: charset-normalizer in /usr/local/lib/python3.11/dist-packages (from kaggle) (3.4.2)\n",
            "Requirement already satisfied: idna in /usr/local/lib/python3.11/dist-packages (from kaggle) (3.10)\n",
            "Requirement already satisfied: protobuf in /usr/local/lib/python3.11/dist-packages (from kaggle) (5.29.5)\n",
            "Requirement already satisfied: python-dateutil>=2.5.3 in /usr/local/lib/python3.11/dist-packages (from kaggle) (2.9.0.post0)\n",
            "Requirement already satisfied: python-slugify in /usr/local/lib/python3.11/dist-packages (from kaggle) (8.0.4)\n",
            "Requirement already satisfied: requests in /usr/local/lib/python3.11/dist-packages (from kaggle) (2.32.3)\n",
            "Requirement already satisfied: setuptools>=21.0.0 in /usr/local/lib/python3.11/dist-packages (from kaggle) (75.2.0)\n",
            "Requirement already satisfied: six>=1.10 in /usr/local/lib/python3.11/dist-packages (from kaggle) (1.17.0)\n",
            "Requirement already satisfied: text-unidecode in /usr/local/lib/python3.11/dist-packages (from kaggle) (1.3)\n",
            "Requirement already satisfied: tqdm in /usr/local/lib/python3.11/dist-packages (from kaggle) (4.67.1)\n",
            "Requirement already satisfied: urllib3>=1.15.1 in /usr/local/lib/python3.11/dist-packages (from kaggle) (2.4.0)\n",
            "Requirement already satisfied: webencodings in /usr/local/lib/python3.11/dist-packages (from kaggle) (0.5.1)\n",
            "Requirement already satisfied: dagshub in /usr/local/lib/python3.11/dist-packages (0.5.10)\n",
            "Requirement already satisfied: PyYAML>=5 in /usr/local/lib/python3.11/dist-packages (from dagshub) (6.0.2)\n",
            "Requirement already satisfied: appdirs>=1.4.4 in /usr/local/lib/python3.11/dist-packages (from dagshub) (1.4.4)\n",
            "Requirement already satisfied: click>=8.0.4 in /usr/local/lib/python3.11/dist-packages (from dagshub) (8.2.1)\n",
            "Requirement already satisfied: httpx>=0.23.0 in /usr/local/lib/python3.11/dist-packages (from dagshub) (0.28.1)\n",
            "Requirement already satisfied: GitPython>=3.1.29 in /usr/local/lib/python3.11/dist-packages (from dagshub) (3.1.44)\n",
            "Requirement already satisfied: rich>=13.1.0 in /usr/local/lib/python3.11/dist-packages (from dagshub) (13.9.4)\n",
            "Requirement already satisfied: dacite~=1.6.0 in /usr/local/lib/python3.11/dist-packages (from dagshub) (1.6.0)\n",
            "Requirement already satisfied: tenacity>=8.2.2 in /usr/local/lib/python3.11/dist-packages (from dagshub) (8.5.0)\n",
            "Requirement already satisfied: gql[requests] in /usr/local/lib/python3.11/dist-packages (from dagshub) (3.5.3)\n",
            "Requirement already satisfied: dataclasses-json in /usr/local/lib/python3.11/dist-packages (from dagshub) (0.6.7)\n",
            "Requirement already satisfied: pandas in /usr/local/lib/python3.11/dist-packages (from dagshub) (2.2.2)\n",
            "Requirement already satisfied: treelib>=1.6.4 in /usr/local/lib/python3.11/dist-packages (from dagshub) (1.8.0)\n",
            "Requirement already satisfied: pathvalidate>=3.0.0 in /usr/local/lib/python3.11/dist-packages (from dagshub) (3.3.1)\n",
            "Requirement already satisfied: python-dateutil in /usr/local/lib/python3.11/dist-packages (from dagshub) (2.9.0.post0)\n",
            "Requirement already satisfied: boto3 in /usr/local/lib/python3.11/dist-packages (from dagshub) (1.39.3)\n",
            "Requirement already satisfied: semver in /usr/local/lib/python3.11/dist-packages (from dagshub) (3.0.4)\n",
            "Requirement already satisfied: dagshub-annotation-converter>=0.1.5 in /usr/local/lib/python3.11/dist-packages (from dagshub) (0.1.10)\n",
            "Requirement already satisfied: lxml in /usr/local/lib/python3.11/dist-packages (from dagshub-annotation-converter>=0.1.5->dagshub) (5.4.0)\n",
            "Requirement already satisfied: pillow in /usr/local/lib/python3.11/dist-packages (from dagshub-annotation-converter>=0.1.5->dagshub) (11.2.1)\n",
            "Requirement already satisfied: pydantic>=2.0.0 in /usr/local/lib/python3.11/dist-packages (from dagshub-annotation-converter>=0.1.5->dagshub) (2.11.7)\n",
            "Requirement already satisfied: typing-extensions in /usr/local/lib/python3.11/dist-packages (from dagshub-annotation-converter>=0.1.5->dagshub) (4.14.0)\n",
            "Requirement already satisfied: gitdb<5,>=4.0.1 in /usr/local/lib/python3.11/dist-packages (from GitPython>=3.1.29->dagshub) (4.0.12)\n",
            "Requirement already satisfied: anyio in /usr/local/lib/python3.11/dist-packages (from httpx>=0.23.0->dagshub) (4.9.0)\n",
            "Requirement already satisfied: certifi in /usr/local/lib/python3.11/dist-packages (from httpx>=0.23.0->dagshub) (2025.6.15)\n",
            "Requirement already satisfied: httpcore==1.* in /usr/local/lib/python3.11/dist-packages (from httpx>=0.23.0->dagshub) (1.0.9)\n",
            "Requirement already satisfied: idna in /usr/local/lib/python3.11/dist-packages (from httpx>=0.23.0->dagshub) (3.10)\n",
            "Requirement already satisfied: h11>=0.16 in /usr/local/lib/python3.11/dist-packages (from httpcore==1.*->httpx>=0.23.0->dagshub) (0.16.0)\n",
            "Requirement already satisfied: markdown-it-py>=2.2.0 in /usr/local/lib/python3.11/dist-packages (from rich>=13.1.0->dagshub) (3.0.0)\n",
            "Requirement already satisfied: pygments<3.0.0,>=2.13.0 in /usr/local/lib/python3.11/dist-packages (from rich>=13.1.0->dagshub) (2.19.2)\n",
            "Requirement already satisfied: six>=1.13.0 in /usr/local/lib/python3.11/dist-packages (from treelib>=1.6.4->dagshub) (1.17.0)\n",
            "Requirement already satisfied: botocore<1.40.0,>=1.39.3 in /usr/local/lib/python3.11/dist-packages (from boto3->dagshub) (1.39.3)\n",
            "Requirement already satisfied: jmespath<2.0.0,>=0.7.1 in /usr/local/lib/python3.11/dist-packages (from boto3->dagshub) (1.0.1)\n",
            "Requirement already satisfied: s3transfer<0.14.0,>=0.13.0 in /usr/local/lib/python3.11/dist-packages (from boto3->dagshub) (0.13.0)\n",
            "Requirement already satisfied: marshmallow<4.0.0,>=3.18.0 in /usr/local/lib/python3.11/dist-packages (from dataclasses-json->dagshub) (3.26.1)\n",
            "Requirement already satisfied: typing-inspect<1,>=0.4.0 in /usr/local/lib/python3.11/dist-packages (from dataclasses-json->dagshub) (0.9.0)\n",
            "Requirement already satisfied: graphql-core<3.2.7,>=3.2 in /usr/local/lib/python3.11/dist-packages (from gql[requests]->dagshub) (3.2.6)\n",
            "Requirement already satisfied: yarl<2.0,>=1.6 in /usr/local/lib/python3.11/dist-packages (from gql[requests]->dagshub) (1.20.1)\n",
            "Requirement already satisfied: backoff<3.0,>=1.11.1 in /usr/local/lib/python3.11/dist-packages (from gql[requests]->dagshub) (2.2.1)\n",
            "Requirement already satisfied: requests<3,>=2.26 in /usr/local/lib/python3.11/dist-packages (from gql[requests]->dagshub) (2.32.3)\n",
            "Requirement already satisfied: requests-toolbelt<2,>=1.0.0 in /usr/local/lib/python3.11/dist-packages (from gql[requests]->dagshub) (1.0.0)\n",
            "Requirement already satisfied: numpy>=1.23.2 in /usr/local/lib/python3.11/dist-packages (from pandas->dagshub) (2.0.2)\n",
            "Requirement already satisfied: pytz>=2020.1 in /usr/local/lib/python3.11/dist-packages (from pandas->dagshub) (2025.2)\n",
            "Requirement already satisfied: tzdata>=2022.7 in /usr/local/lib/python3.11/dist-packages (from pandas->dagshub) (2025.2)\n",
            "Requirement already satisfied: sniffio>=1.1 in /usr/local/lib/python3.11/dist-packages (from anyio->httpx>=0.23.0->dagshub) (1.3.1)\n",
            "Requirement already satisfied: urllib3!=2.2.0,<3,>=1.25.4 in /usr/local/lib/python3.11/dist-packages (from botocore<1.40.0,>=1.39.3->boto3->dagshub) (2.4.0)\n",
            "Requirement already satisfied: smmap<6,>=3.0.1 in /usr/local/lib/python3.11/dist-packages (from gitdb<5,>=4.0.1->GitPython>=3.1.29->dagshub) (5.0.2)\n",
            "Requirement already satisfied: mdurl~=0.1 in /usr/local/lib/python3.11/dist-packages (from markdown-it-py>=2.2.0->rich>=13.1.0->dagshub) (0.1.2)\n",
            "Requirement already satisfied: packaging>=17.0 in /usr/local/lib/python3.11/dist-packages (from marshmallow<4.0.0,>=3.18.0->dataclasses-json->dagshub) (24.2)\n",
            "Requirement already satisfied: annotated-types>=0.6.0 in /usr/local/lib/python3.11/dist-packages (from pydantic>=2.0.0->dagshub-annotation-converter>=0.1.5->dagshub) (0.7.0)\n",
            "Requirement already satisfied: pydantic-core==2.33.2 in /usr/local/lib/python3.11/dist-packages (from pydantic>=2.0.0->dagshub-annotation-converter>=0.1.5->dagshub) (2.33.2)\n",
            "Requirement already satisfied: typing-inspection>=0.4.0 in /usr/local/lib/python3.11/dist-packages (from pydantic>=2.0.0->dagshub-annotation-converter>=0.1.5->dagshub) (0.4.1)\n",
            "Requirement already satisfied: charset-normalizer<4,>=2 in /usr/local/lib/python3.11/dist-packages (from requests<3,>=2.26->gql[requests]->dagshub) (3.4.2)\n",
            "Requirement already satisfied: mypy-extensions>=0.3.0 in /usr/local/lib/python3.11/dist-packages (from typing-inspect<1,>=0.4.0->dataclasses-json->dagshub) (1.1.0)\n",
            "Requirement already satisfied: multidict>=4.0 in /usr/local/lib/python3.11/dist-packages (from yarl<2.0,>=1.6->gql[requests]->dagshub) (6.6.3)\n",
            "Requirement already satisfied: propcache>=0.2.1 in /usr/local/lib/python3.11/dist-packages (from yarl<2.0,>=1.6->gql[requests]->dagshub) (0.3.2)\n"
          ]
        }
      ],
      "source": [
        "! pip install kaggle\n",
        "! pip install dagshub"
      ]
    },
    {
      "cell_type": "code",
      "source": [
        "from google.colab import drive\n",
        "drive.mount('/content/drive')"
      ],
      "metadata": {
        "colab": {
          "base_uri": "https://localhost:8080/"
        },
        "id": "2TkCVhuaYIXT",
        "outputId": "fb0efd0f-d63e-4ed6-ba26-141c88256034"
      },
      "execution_count": null,
      "outputs": [
        {
          "output_type": "stream",
          "name": "stdout",
          "text": [
            "Drive already mounted at /content/drive; to attempt to forcibly remount, call drive.mount(\"/content/drive\", force_remount=True).\n"
          ]
        }
      ]
    },
    {
      "cell_type": "code",
      "source": [
        "! mkdir ~/.kaggle"
      ],
      "metadata": {
        "id": "cJoCWUAqYMf2",
        "colab": {
          "base_uri": "https://localhost:8080/"
        },
        "outputId": "266acf2b-94b7-4bef-fda6-a1ce72bf724a"
      },
      "execution_count": null,
      "outputs": [
        {
          "output_type": "stream",
          "name": "stdout",
          "text": [
            "mkdir: cannot create directory ‘/root/.kaggle’: File exists\n"
          ]
        }
      ]
    },
    {
      "cell_type": "code",
      "source": [
        "from google.colab import files\n",
        "files.upload()"
      ],
      "metadata": {
        "colab": {
          "base_uri": "https://localhost:8080/",
          "height": 91
        },
        "id": "qybR_XwZbbiu",
        "outputId": "bf65b322-f072-47c6-a30a-cb195c56dd59"
      },
      "execution_count": null,
      "outputs": [
        {
          "output_type": "display_data",
          "data": {
            "text/plain": [
              "<IPython.core.display.HTML object>"
            ],
            "text/html": [
              "\n",
              "     <input type=\"file\" id=\"files-b9869836-106b-4ab9-84f4-485c0bf544b0\" name=\"files[]\" multiple disabled\n",
              "        style=\"border:none\" />\n",
              "     <output id=\"result-b9869836-106b-4ab9-84f4-485c0bf544b0\">\n",
              "      Upload widget is only available when the cell has been executed in the\n",
              "      current browser session. Please rerun this cell to enable.\n",
              "      </output>\n",
              "      <script>// Copyright 2017 Google LLC\n",
              "//\n",
              "// Licensed under the Apache License, Version 2.0 (the \"License\");\n",
              "// you may not use this file except in compliance with the License.\n",
              "// You may obtain a copy of the License at\n",
              "//\n",
              "//      http://www.apache.org/licenses/LICENSE-2.0\n",
              "//\n",
              "// Unless required by applicable law or agreed to in writing, software\n",
              "// distributed under the License is distributed on an \"AS IS\" BASIS,\n",
              "// WITHOUT WARRANTIES OR CONDITIONS OF ANY KIND, either express or implied.\n",
              "// See the License for the specific language governing permissions and\n",
              "// limitations under the License.\n",
              "\n",
              "/**\n",
              " * @fileoverview Helpers for google.colab Python module.\n",
              " */\n",
              "(function(scope) {\n",
              "function span(text, styleAttributes = {}) {\n",
              "  const element = document.createElement('span');\n",
              "  element.textContent = text;\n",
              "  for (const key of Object.keys(styleAttributes)) {\n",
              "    element.style[key] = styleAttributes[key];\n",
              "  }\n",
              "  return element;\n",
              "}\n",
              "\n",
              "// Max number of bytes which will be uploaded at a time.\n",
              "const MAX_PAYLOAD_SIZE = 100 * 1024;\n",
              "\n",
              "function _uploadFiles(inputId, outputId) {\n",
              "  const steps = uploadFilesStep(inputId, outputId);\n",
              "  const outputElement = document.getElementById(outputId);\n",
              "  // Cache steps on the outputElement to make it available for the next call\n",
              "  // to uploadFilesContinue from Python.\n",
              "  outputElement.steps = steps;\n",
              "\n",
              "  return _uploadFilesContinue(outputId);\n",
              "}\n",
              "\n",
              "// This is roughly an async generator (not supported in the browser yet),\n",
              "// where there are multiple asynchronous steps and the Python side is going\n",
              "// to poll for completion of each step.\n",
              "// This uses a Promise to block the python side on completion of each step,\n",
              "// then passes the result of the previous step as the input to the next step.\n",
              "function _uploadFilesContinue(outputId) {\n",
              "  const outputElement = document.getElementById(outputId);\n",
              "  const steps = outputElement.steps;\n",
              "\n",
              "  const next = steps.next(outputElement.lastPromiseValue);\n",
              "  return Promise.resolve(next.value.promise).then((value) => {\n",
              "    // Cache the last promise value to make it available to the next\n",
              "    // step of the generator.\n",
              "    outputElement.lastPromiseValue = value;\n",
              "    return next.value.response;\n",
              "  });\n",
              "}\n",
              "\n",
              "/**\n",
              " * Generator function which is called between each async step of the upload\n",
              " * process.\n",
              " * @param {string} inputId Element ID of the input file picker element.\n",
              " * @param {string} outputId Element ID of the output display.\n",
              " * @return {!Iterable<!Object>} Iterable of next steps.\n",
              " */\n",
              "function* uploadFilesStep(inputId, outputId) {\n",
              "  const inputElement = document.getElementById(inputId);\n",
              "  inputElement.disabled = false;\n",
              "\n",
              "  const outputElement = document.getElementById(outputId);\n",
              "  outputElement.innerHTML = '';\n",
              "\n",
              "  const pickedPromise = new Promise((resolve) => {\n",
              "    inputElement.addEventListener('change', (e) => {\n",
              "      resolve(e.target.files);\n",
              "    });\n",
              "  });\n",
              "\n",
              "  const cancel = document.createElement('button');\n",
              "  inputElement.parentElement.appendChild(cancel);\n",
              "  cancel.textContent = 'Cancel upload';\n",
              "  const cancelPromise = new Promise((resolve) => {\n",
              "    cancel.onclick = () => {\n",
              "      resolve(null);\n",
              "    };\n",
              "  });\n",
              "\n",
              "  // Wait for the user to pick the files.\n",
              "  const files = yield {\n",
              "    promise: Promise.race([pickedPromise, cancelPromise]),\n",
              "    response: {\n",
              "      action: 'starting',\n",
              "    }\n",
              "  };\n",
              "\n",
              "  cancel.remove();\n",
              "\n",
              "  // Disable the input element since further picks are not allowed.\n",
              "  inputElement.disabled = true;\n",
              "\n",
              "  if (!files) {\n",
              "    return {\n",
              "      response: {\n",
              "        action: 'complete',\n",
              "      }\n",
              "    };\n",
              "  }\n",
              "\n",
              "  for (const file of files) {\n",
              "    const li = document.createElement('li');\n",
              "    li.append(span(file.name, {fontWeight: 'bold'}));\n",
              "    li.append(span(\n",
              "        `(${file.type || 'n/a'}) - ${file.size} bytes, ` +\n",
              "        `last modified: ${\n",
              "            file.lastModifiedDate ? file.lastModifiedDate.toLocaleDateString() :\n",
              "                                    'n/a'} - `));\n",
              "    const percent = span('0% done');\n",
              "    li.appendChild(percent);\n",
              "\n",
              "    outputElement.appendChild(li);\n",
              "\n",
              "    const fileDataPromise = new Promise((resolve) => {\n",
              "      const reader = new FileReader();\n",
              "      reader.onload = (e) => {\n",
              "        resolve(e.target.result);\n",
              "      };\n",
              "      reader.readAsArrayBuffer(file);\n",
              "    });\n",
              "    // Wait for the data to be ready.\n",
              "    let fileData = yield {\n",
              "      promise: fileDataPromise,\n",
              "      response: {\n",
              "        action: 'continue',\n",
              "      }\n",
              "    };\n",
              "\n",
              "    // Use a chunked sending to avoid message size limits. See b/62115660.\n",
              "    let position = 0;\n",
              "    do {\n",
              "      const length = Math.min(fileData.byteLength - position, MAX_PAYLOAD_SIZE);\n",
              "      const chunk = new Uint8Array(fileData, position, length);\n",
              "      position += length;\n",
              "\n",
              "      const base64 = btoa(String.fromCharCode.apply(null, chunk));\n",
              "      yield {\n",
              "        response: {\n",
              "          action: 'append',\n",
              "          file: file.name,\n",
              "          data: base64,\n",
              "        },\n",
              "      };\n",
              "\n",
              "      let percentDone = fileData.byteLength === 0 ?\n",
              "          100 :\n",
              "          Math.round((position / fileData.byteLength) * 100);\n",
              "      percent.textContent = `${percentDone}% done`;\n",
              "\n",
              "    } while (position < fileData.byteLength);\n",
              "  }\n",
              "\n",
              "  // All done.\n",
              "  yield {\n",
              "    response: {\n",
              "      action: 'complete',\n",
              "    }\n",
              "  };\n",
              "}\n",
              "\n",
              "scope.google = scope.google || {};\n",
              "scope.google.colab = scope.google.colab || {};\n",
              "scope.google.colab._files = {\n",
              "  _uploadFiles,\n",
              "  _uploadFilesContinue,\n",
              "};\n",
              "})(self);\n",
              "</script> "
            ]
          },
          "metadata": {}
        },
        {
          "output_type": "stream",
          "name": "stdout",
          "text": [
            "Saving kaggle.json to kaggle.json\n"
          ]
        },
        {
          "output_type": "execute_result",
          "data": {
            "text/plain": [
              "{'kaggle.json': b'{\"username\":\"ekaterineghibradze\",\"key\":\"b1414052fbae86987efff2083c8dcbd1\"}'}"
            ]
          },
          "metadata": {},
          "execution_count": 4
        }
      ]
    },
    {
      "cell_type": "code",
      "source": [
        "!mv \"kaggle.json\" ~/.kaggle/kaggle.json\n",
        "!chmod 600 ~/.kaggle/kaggle.json"
      ],
      "metadata": {
        "id": "D1kbLG2Pb9lE"
      },
      "execution_count": null,
      "outputs": []
    },
    {
      "cell_type": "code",
      "source": [
        "!ls -l ~/.kaggle/"
      ],
      "metadata": {
        "colab": {
          "base_uri": "https://localhost:8080/"
        },
        "id": "vtNbrtCycvO7",
        "outputId": "230bbbc5-080b-4bf9-927c-ac7980f89e0f"
      },
      "execution_count": null,
      "outputs": [
        {
          "output_type": "stream",
          "name": "stdout",
          "text": [
            "total 4\n",
            "-rw------- 1 root root 74 Jul  7 23:10 kaggle.json\n"
          ]
        }
      ]
    },
    {
      "cell_type": "code",
      "source": [
        "!kaggle competitions download -c walmart-recruiting-store-sales-forecasting"
      ],
      "metadata": {
        "colab": {
          "base_uri": "https://localhost:8080/"
        },
        "id": "yN4023PLZ-1I",
        "outputId": "d4d202c9-e507-48e0-8525-6bae69fb4624"
      },
      "execution_count": null,
      "outputs": [
        {
          "output_type": "stream",
          "name": "stdout",
          "text": [
            "walmart-recruiting-store-sales-forecasting.zip: Skipping, found more recently modified local copy (use --force to force download)\n"
          ]
        }
      ]
    },
    {
      "cell_type": "code",
      "source": [
        "! unzip walmart-recruiting-store-sales-forecasting"
      ],
      "metadata": {
        "colab": {
          "base_uri": "https://localhost:8080/"
        },
        "id": "DNg-36PMbu7W",
        "outputId": "e8fbe102-3330-4c49-975a-ff99af9255b0"
      },
      "execution_count": null,
      "outputs": [
        {
          "output_type": "stream",
          "name": "stdout",
          "text": [
            "Archive:  walmart-recruiting-store-sales-forecasting.zip\n",
            "replace features.csv.zip? [y]es, [n]o, [A]ll, [N]one, [r]ename: y\n",
            "  inflating: features.csv.zip        \n",
            "replace sampleSubmission.csv.zip? [y]es, [n]o, [A]ll, [N]one, [r]ename: yyyy\n",
            "  inflating: sampleSubmission.csv.zip  \n",
            "replace stores.csv? [y]es, [n]o, [A]ll, [N]one, [r]ename: y\n",
            "  inflating: stores.csv              \n",
            "replace test.csv.zip? [y]es, [n]o, [A]ll, [N]one, [r]ename: y\n",
            "  inflating: test.csv.zip            \n",
            "replace train.csv.zip? [y]es, [n]o, [A]ll, [N]one, [r]ename: y\n",
            "  inflating: train.csv.zip           \n"
          ]
        }
      ]
    },
    {
      "cell_type": "code",
      "source": [
        "!unzip '*.csv.zip'"
      ],
      "metadata": {
        "colab": {
          "base_uri": "https://localhost:8080/"
        },
        "id": "BGHVXffUeA_V",
        "outputId": "b45ccbc2-afe1-492b-afaf-d9071c66bd52"
      },
      "execution_count": null,
      "outputs": [
        {
          "output_type": "stream",
          "name": "stdout",
          "text": [
            "Archive:  features.csv.zip\n",
            "replace features.csv? [y]es, [n]o, [A]ll, [N]one, [r]ename: y\n",
            "  inflating: features.csv            \n",
            "\n",
            "Archive:  sampleSubmission.csv.zip\n",
            "replace sampleSubmission.csv? [y]es, [n]o, [A]ll, [N]one, [r]ename: y\n",
            "  inflating: sampleSubmission.csv    \n",
            "\n",
            "Archive:  train.csv.zip\n",
            "replace train.csv? [y]es, [n]o, [A]ll, [N]one, [r]ename: y\n",
            "  inflating: train.csv               \n",
            "\n",
            "Archive:  test.csv.zip\n",
            "replace test.csv? [y]es, [n]o, [A]ll, [N]one, [r]ename: y\n",
            "  inflating: test.csv                \n",
            "\n",
            "4 archives were successfully processed.\n"
          ]
        }
      ]
    },
    {
      "cell_type": "code",
      "source": [
        "!unzip '*.csv.zip'"
      ],
      "metadata": {
        "colab": {
          "base_uri": "https://localhost:8080/"
        },
        "id": "QpflLFtWeQpt",
        "outputId": "0b562a71-8b0b-4d63-aa80-b9ca45bd55ca"
      },
      "execution_count": null,
      "outputs": [
        {
          "output_type": "stream",
          "name": "stdout",
          "text": [
            "Archive:  features.csv.zip\n",
            "replace features.csv? [y]es, [n]o, [A]ll, [N]one, [r]ename: y\n",
            "  inflating: features.csv            \n",
            "\n",
            "Archive:  sampleSubmission.csv.zip\n",
            "replace sampleSubmission.csv? [y]es, [n]o, [A]ll, [N]one, [r]ename: y\n",
            "  inflating: sampleSubmission.csv    \n",
            "\n",
            "Archive:  train.csv.zip\n",
            "replace train.csv? [y]es, [n]o, [A]ll, [N]one, [r]ename: y\n",
            "  inflating: train.csv               \n",
            "\n",
            "Archive:  test.csv.zip\n",
            "replace test.csv? [y]es, [n]o, [A]ll, [N]one, [r]ename: y\n",
            "  inflating: test.csv                \n",
            "\n",
            "4 archives were successfully processed.\n"
          ]
        }
      ]
    },
    {
      "cell_type": "code",
      "source": [
        "import dagshub\n",
        "dagshub.init(repo_owner='eghib22', repo_name='Store-Sales-Forecasting', mlflow=True)"
      ],
      "metadata": {
        "colab": {
          "base_uri": "https://localhost:8080/",
          "height": 67
        },
        "id": "HbyDRX6Gjs2N",
        "outputId": "c451aca0-4839-494a-d879-be71b0c1d5d8"
      },
      "execution_count": null,
      "outputs": [
        {
          "output_type": "display_data",
          "data": {
            "text/plain": [
              "Accessing as eghib22\n"
            ],
            "text/html": [
              "<pre style=\"white-space:pre;overflow-x:auto;line-height:normal;font-family:Menlo,'DejaVu Sans Mono',consolas,'Courier New',monospace\">Accessing as eghib22\n",
              "</pre>\n"
            ]
          },
          "metadata": {}
        },
        {
          "output_type": "display_data",
          "data": {
            "text/plain": [
              "Initialized MLflow to track repo \u001b[32m\"eghib22/Store-Sales-Forecasting\"\u001b[0m\n"
            ],
            "text/html": [
              "<pre style=\"white-space:pre;overflow-x:auto;line-height:normal;font-family:Menlo,'DejaVu Sans Mono',consolas,'Courier New',monospace\">Initialized MLflow to track repo <span style=\"color: #008000; text-decoration-color: #008000\">\"eghib22/Store-Sales-Forecasting\"</span>\n",
              "</pre>\n"
            ]
          },
          "metadata": {}
        },
        {
          "output_type": "display_data",
          "data": {
            "text/plain": [
              "Repository eghib22/Store-Sales-Forecasting initialized!\n"
            ],
            "text/html": [
              "<pre style=\"white-space:pre;overflow-x:auto;line-height:normal;font-family:Menlo,'DejaVu Sans Mono',consolas,'Courier New',monospace\">Repository eghib22/Store-Sales-Forecasting initialized!\n",
              "</pre>\n"
            ]
          },
          "metadata": {}
        }
      ]
    },
    {
      "cell_type": "code",
      "source": [
        "import pandas as pd\n",
        "\n",
        "# Load the data\n",
        "train = pd.read_csv('train.csv')\n",
        "test = pd.read_csv('test.csv')\n",
        "features = pd.read_csv('features.csv')\n",
        "stores = pd.read_csv('stores.csv')\n",
        "sample_submission = pd.read_csv('sampleSubmission.csv')\n",
        "\n",
        "# Explore the data\n",
        "print(\"Train shape:\", train.shape)\n",
        "print(train.head())\n",
        "print(train.columns)\n",
        "\n",
        "print(\"\\nTest shape:\", test.shape)\n",
        "print(test.head())\n",
        "print(test.columns)\n",
        "\n",
        "print(\"\\nFeatures shape:\", features.shape)\n",
        "print(features.head())\n",
        "print(features.columns)\n",
        "\n",
        "print(\"\\nStores shape:\", stores.shape)\n",
        "print(stores.head())\n",
        "print(stores.columns)\n",
        "\n",
        "print(\"\\nSample Submission shape:\", sample_submission.shape)\n",
        "print(sample_submission.head())\n",
        "print(sample_submission.columns)"
      ],
      "metadata": {
        "colab": {
          "base_uri": "https://localhost:8080/"
        },
        "id": "lZpgC7NMjecK",
        "outputId": "6922ed4e-b80a-446e-9982-8a78e69a1591",
        "collapsed": true
      },
      "execution_count": null,
      "outputs": [
        {
          "output_type": "stream",
          "name": "stdout",
          "text": [
            "Train shape: (421570, 5)\n",
            "   Store  Dept        Date  Weekly_Sales  IsHoliday\n",
            "0      1     1  2010-02-05      24924.50      False\n",
            "1      1     1  2010-02-12      46039.49       True\n",
            "2      1     1  2010-02-19      41595.55      False\n",
            "3      1     1  2010-02-26      19403.54      False\n",
            "4      1     1  2010-03-05      21827.90      False\n",
            "Index(['Store', 'Dept', 'Date', 'Weekly_Sales', 'IsHoliday'], dtype='object')\n",
            "\n",
            "Test shape: (115064, 4)\n",
            "   Store  Dept        Date  IsHoliday\n",
            "0      1     1  2012-11-02      False\n",
            "1      1     1  2012-11-09      False\n",
            "2      1     1  2012-11-16      False\n",
            "3      1     1  2012-11-23       True\n",
            "4      1     1  2012-11-30      False\n",
            "Index(['Store', 'Dept', 'Date', 'IsHoliday'], dtype='object')\n",
            "\n",
            "Features shape: (8190, 12)\n",
            "   Store        Date  Temperature  Fuel_Price  MarkDown1  MarkDown2  \\\n",
            "0      1  2010-02-05        42.31       2.572        NaN        NaN   \n",
            "1      1  2010-02-12        38.51       2.548        NaN        NaN   \n",
            "2      1  2010-02-19        39.93       2.514        NaN        NaN   \n",
            "3      1  2010-02-26        46.63       2.561        NaN        NaN   \n",
            "4      1  2010-03-05        46.50       2.625        NaN        NaN   \n",
            "\n",
            "   MarkDown3  MarkDown4  MarkDown5         CPI  Unemployment  IsHoliday  \n",
            "0        NaN        NaN        NaN  211.096358         8.106      False  \n",
            "1        NaN        NaN        NaN  211.242170         8.106       True  \n",
            "2        NaN        NaN        NaN  211.289143         8.106      False  \n",
            "3        NaN        NaN        NaN  211.319643         8.106      False  \n",
            "4        NaN        NaN        NaN  211.350143         8.106      False  \n",
            "Index(['Store', 'Date', 'Temperature', 'Fuel_Price', 'MarkDown1', 'MarkDown2',\n",
            "       'MarkDown3', 'MarkDown4', 'MarkDown5', 'CPI', 'Unemployment',\n",
            "       'IsHoliday'],\n",
            "      dtype='object')\n",
            "\n",
            "Stores shape: (45, 3)\n",
            "   Store Type    Size\n",
            "0      1    A  151315\n",
            "1      2    A  202307\n",
            "2      3    B   37392\n",
            "3      4    A  205863\n",
            "4      5    B   34875\n",
            "Index(['Store', 'Type', 'Size'], dtype='object')\n",
            "\n",
            "Sample Submission shape: (115064, 2)\n",
            "               Id  Weekly_Sales\n",
            "0  1_1_2012-11-02             0\n",
            "1  1_1_2012-11-09             0\n",
            "2  1_1_2012-11-16             0\n",
            "3  1_1_2012-11-23             0\n",
            "4  1_1_2012-11-30             0\n",
            "Index(['Id', 'Weekly_Sales'], dtype='object')\n"
          ]
        }
      ]
    },
    {
      "cell_type": "code",
      "source": [
        "# Merge train and test with features and stores\n",
        "train_merged = pd.merge(train, features, on=['Store', 'Date'], how='left')\n",
        "train_merged = pd.merge(train_merged, stores, on='Store', how='left')\n",
        "\n",
        "test_merged = pd.merge(test, features, on=['Store', 'Date'], how='left')\n",
        "test_merged = pd.merge(test_merged, stores, on='Store', how='left')\n",
        "\n",
        "# Convert Date to datetime\n",
        "train_merged['Date'] = pd.to_datetime(train_merged['Date'])\n"
      ],
      "metadata": {
        "id": "GznCjGNPkKZ7"
      },
      "execution_count": null,
      "outputs": []
    },
    {
      "cell_type": "code",
      "source": [
        "# Split\n",
        "train_data = train_merged[train_merged['Date'] < '2012-01-01']\n",
        "val_data = train_merged[(train_merged['Date'] >= '2012-01-01') & (train_merged['Date'] < '2012-07-01')]\n",
        "test_data = train_merged[train_merged['Date'] >= '2012-07-01']\n",
        "\n",
        "print(\"Train:\", train_data.shape)\n",
        "print(\"Validation:\", val_data.shape)\n",
        "print(\"Test (local):\", test_data.shape)"
      ],
      "metadata": {
        "colab": {
          "base_uri": "https://localhost:8080/"
        },
        "id": "nQnvIhe4lnEZ",
        "outputId": "ceb7bd84-ce60-4fb3-b8cf-91778aaeb077"
      },
      "execution_count": null,
      "outputs": [
        {
          "output_type": "stream",
          "name": "stdout",
          "text": [
            "Train: (294132, 17)\n",
            "Validation: (77110, 17)\n",
            "Test (local): (50328, 17)\n"
          ]
        }
      ]
    },
    {
      "cell_type": "code",
      "source": [
        "print(train_data.info())\n",
        "print(train_data.describe())\n",
        "print(train_data.isnull().sum())\n",
        "train_data['Weekly_Sales'].hist(bins=50)"
      ],
      "metadata": {
        "colab": {
          "base_uri": "https://localhost:8080/",
          "height": 1000
        },
        "id": "RS0ucGnnngsS",
        "outputId": "75e16302-e4d7-490e-8369-efef386ef9e0",
        "collapsed": true
      },
      "execution_count": null,
      "outputs": [
        {
          "output_type": "stream",
          "name": "stdout",
          "text": [
            "<class 'pandas.core.frame.DataFrame'>\n",
            "Index: 294132 entries, 0 to 421526\n",
            "Data columns (total 17 columns):\n",
            " #   Column        Non-Null Count   Dtype         \n",
            "---  ------        --------------   -----         \n",
            " 0   Store         294132 non-null  int64         \n",
            " 1   Dept          294132 non-null  int64         \n",
            " 2   Date          294132 non-null  datetime64[ns]\n",
            " 3   Weekly_Sales  294132 non-null  float64       \n",
            " 4   IsHoliday_x   294132 non-null  bool          \n",
            " 5   Temperature   294132 non-null  float64       \n",
            " 6   Fuel_Price    294132 non-null  float64       \n",
            " 7   MarkDown1     23700 non-null   float64       \n",
            " 8   MarkDown2     20154 non-null   float64       \n",
            " 9   MarkDown3     23116 non-null   float64       \n",
            " 10  MarkDown4     21042 non-null   float64       \n",
            " 11  MarkDown5     23994 non-null   float64       \n",
            " 12  CPI           294132 non-null  float64       \n",
            " 13  Unemployment  294132 non-null  float64       \n",
            " 14  IsHoliday_y   294132 non-null  bool          \n",
            " 15  Type          294132 non-null  object        \n",
            " 16  Size          294132 non-null  int64         \n",
            "dtypes: bool(2), datetime64[ns](1), float64(10), int64(3), object(1)\n",
            "memory usage: 36.5+ MB\n",
            "None\n",
            "               Store           Dept                           Date  \\\n",
            "count  294132.000000  294132.000000                         294132   \n",
            "mean       22.180178      44.184135  2011-01-18 08:32:17.546407680   \n",
            "min         1.000000       1.000000            2010-02-05 00:00:00   \n",
            "25%        11.000000      18.000000            2010-07-30 00:00:00   \n",
            "50%        22.000000      37.000000            2011-01-21 00:00:00   \n",
            "75%        33.000000      72.000000            2011-07-15 00:00:00   \n",
            "max        45.000000      99.000000            2011-12-30 00:00:00   \n",
            "std        12.780170      30.430023                            NaN   \n",
            "\n",
            "        Weekly_Sales    Temperature     Fuel_Price     MarkDown1  \\\n",
            "count  294132.000000  294132.000000  294132.000000  23700.000000   \n",
            "mean    16105.306895      58.909079       3.209664   4534.018155   \n",
            "min     -4988.940000      -2.060000       2.472000      0.500000   \n",
            "25%      2146.025000      45.260000       2.808000    759.800000   \n",
            "50%      7727.310000      60.420000       3.129000   3332.410000   \n",
            "75%     20356.665000      73.340000       3.595000   6123.190000   \n",
            "max    693099.360000     100.140000       4.211000  34348.140000   \n",
            "std     22961.301005      18.934062       0.439060   5246.595617   \n",
            "\n",
            "           MarkDown2      MarkDown3     MarkDown4     MarkDown5  \\\n",
            "count   20154.000000   23116.000000  21042.000000  23994.000000   \n",
            "mean     7808.916193    8259.218705   1531.493447   6393.284052   \n",
            "min         0.000000      -0.870000      2.000000    135.160000   \n",
            "25%        34.000000     123.200000    162.330000   1792.920000   \n",
            "50%       171.880000     379.570000    747.890000   4078.210000   \n",
            "75%      2027.770000    1330.530000   2084.640000   7509.900000   \n",
            "max    104519.540000  141630.610000  20834.370000  37581.270000   \n",
            "std     18351.717034   22208.167492   2141.139739   7193.397172   \n",
            "\n",
            "                 CPI   Unemployment           Size  \n",
            "count  294132.000000  294132.000000  294132.000000  \n",
            "mean      169.529527       8.232486  136889.595597  \n",
            "min       126.064000       4.420000   34875.000000  \n",
            "25%       131.901968       7.287000   93638.000000  \n",
            "50%       182.077986       8.058000  140167.000000  \n",
            "75%       211.096358       8.684000  202505.000000  \n",
            "max       223.249677      14.313000  219622.000000  \n",
            "std        38.464447       1.865189   60917.875957  \n",
            "Store                0\n",
            "Dept                 0\n",
            "Date                 0\n",
            "Weekly_Sales         0\n",
            "IsHoliday_x          0\n",
            "Temperature          0\n",
            "Fuel_Price           0\n",
            "MarkDown1       270432\n",
            "MarkDown2       273978\n",
            "MarkDown3       271016\n",
            "MarkDown4       273090\n",
            "MarkDown5       270138\n",
            "CPI                  0\n",
            "Unemployment         0\n",
            "IsHoliday_y          0\n",
            "Type                 0\n",
            "Size                 0\n",
            "dtype: int64\n"
          ]
        },
        {
          "output_type": "execute_result",
          "data": {
            "text/plain": [
              "<Axes: >"
            ]
          },
          "metadata": {},
          "execution_count": 15
        },
        {
          "output_type": "display_data",
          "data": {
            "text/plain": [
              "<Figure size 640x480 with 1 Axes>"
            ],
            "image/png": "[encoded data removed]"
          },
          "metadata": {}
        }
      ]
    },
    {
      "cell_type": "code",
      "source": [
        "import numpy as np\n",
        "import pandas as pd\n",
        "import xgboost as xgb\n",
        "from sklearn.model_selection import RandomizedSearchCV\n",
        "from sklearn.metrics import make_scorer, mean_absolute_error\n",
        "from sklearn.preprocessing import FunctionTransformer\n",
        "import joblib\n",
        "import mlflow\n",
        "\n",
        "# --- Preprocessing ---\n",
        "def enhanced_preprocess(df):\n",
        "    df = df.copy()\n",
        "    type_map = {'A': 0, 'B': 1, 'C': 2}\n",
        "    df['Type'] = df['Type'].map(type_map)\n",
        "\n",
        "    if 'IsHoliday_x' in df.columns:\n",
        "        df['IsHoliday'] = df['IsHoliday_x'].astype(int)\n",
        "        df = df.drop(columns=['IsHoliday_x', 'IsHoliday_y'])\n",
        "    elif 'IsHoliday' in df.columns:\n",
        "        df['IsHoliday'] = df['IsHoliday'].astype(int)\n",
        "\n",
        "    markdown_cols = ['MarkDown1', 'MarkDown2', 'MarkDown3', 'MarkDown4', 'MarkDown5']\n",
        "    for col in markdown_cols:\n",
        "        if col in df.columns:\n",
        "            df[col] = df[col].fillna(0)\n",
        "\n",
        "    df['Year'] = df['Date'].dt.year\n",
        "    df['Month'] = df['Date'].dt.month\n",
        "    df['Week'] = df['Date'].dt.isocalendar().week.astype(int)\n",
        "    df['Day'] = df['Date'].dt.day\n",
        "    df['DayOfWeek'] = df['Date'].dt.dayofweek\n",
        "    df['IsMonthStart'] = df['Date'].dt.is_month_start.astype(int)\n",
        "    df['IsMonthEnd'] = df['Date'].dt.is_month_end.astype(int)\n",
        "    df['IsWeekend'] = df['Date'].dt.dayofweek.isin([5, 6]).astype(int)\n",
        "    df['Quarter'] = df['Date'].dt.quarter\n",
        "\n",
        "    return df.drop(columns=['Date'])\n",
        "\n",
        "# --- Train/Val data ---\n",
        "X_train = enhanced_preprocess(train_data.drop(columns=['Weekly_Sales']))\n",
        "y_train = train_data['Weekly_Sales']\n",
        "\n",
        "val_data_processed = enhanced_preprocess(val_data)\n",
        "X_val = val_data_processed.drop(columns=['Weekly_Sales'])\n",
        "y_val = val_data_processed['Weekly_Sales']\n",
        "weights_val = val_data_processed['IsHoliday'].apply(lambda x: 5 if x else 1)\n",
        "\n",
        "\n",
        "# --- Parameter grid for RandomizedSearch ---\n",
        "param_dist = {\n",
        "    \"n_estimators\": [500, 1000, 1500],\n",
        "    \"max_depth\": [3, 5, 7, 10],\n",
        "    \"learning_rate\": [0.01, 0.05, 0.1, 0.2],\n",
        "    \"subsample\": [0.6, 0.8, 1.0],\n",
        "    \"colsample_bytree\": [0.6, 0.8, 1.0],\n",
        "    \"min_child_weight\": [1, 3, 5]\n",
        "}\n",
        "\n",
        "# --- Model tuning ---\n",
        "xgb_model = xgb.XGBRegressor(objective='reg:squarederror', random_state=42, n_jobs=-1)\n",
        "\n",
        "scorer = make_scorer(mean_absolute_error, greater_is_better=False)\n",
        "\n",
        "search = RandomizedSearchCV(\n",
        "    estimator=xgb_model,\n",
        "    param_distributions=param_dist,\n",
        "    n_iter=25,\n",
        "    cv=3,\n",
        "    scoring=scorer,\n",
        "    verbose=2,\n",
        "    random_state=42\n",
        ")\n",
        "\n",
        "print(\"Starting parameter search...\")\n",
        "search.fit(X_train, y_train)\n",
        "print(\"Best Params:\", search.best_params_)\n",
        "\n",
        "# --- Evaluate best model on validation set ---\n",
        "best_model = search.best_estimator_\n",
        "y_pred = best_model.predict(X_val)\n",
        "wmae = np.sum(weights_val * np.abs(y_val - y_pred)) / np.sum(weights_val)\n",
        "print(\"Validation WMAE:\", wmae)\n",
        "\n",
        "# --- Log to MLflow ---\n",
        "with mlflow.start_run(run_name=\"XGB-Tuned\"):\n",
        "    mlflow.log_param(\"tuned\", True)\n",
        "    for param, value in search.best_params_.items():\n",
        "        mlflow.log_param(param, value)\n",
        "    mlflow.log_metric(\"WMAE\", wmae)\n",
        "\n",
        "    joblib.dump(best_model, \"xgb_model_tuned.pkl\")\n",
        "    mlflow.log_artifact(\"xgb_model_tuned.pkl\")\n",
        "\n",
        "    print(\"Model, parameters, and WMAE logged to MLflow.\")\n"
      ],
      "metadata": {
        "colab": {
          "base_uri": "https://localhost:8080/"
        },
        "id": "vNAz7VuitFFv",
        "outputId": "5c0fea64-e602-4e7e-98db-499761c1e2dd"
      },
      "execution_count": null,
      "outputs": [
        {
          "output_type": "stream",
          "name": "stdout",
          "text": [
            "Starting parameter search...\n",
            "Fitting 3 folds for each of 25 candidates, totalling 75 fits\n",
            "[CV] END colsample_bytree=0.8, learning_rate=0.05, max_depth=7, min_child_weight=1, n_estimators=1000, subsample=0.8; total time=  35.5s\n",
            "[CV] END colsample_bytree=0.8, learning_rate=0.05, max_depth=7, min_child_weight=1, n_estimators=1000, subsample=0.8; total time=  33.1s\n",
            "[CV] END colsample_bytree=0.8, learning_rate=0.05, max_depth=7, min_child_weight=1, n_estimators=1000, subsample=0.8; total time=  38.0s\n",
            "[CV] END colsample_bytree=0.6, learning_rate=0.2, max_depth=3, min_child_weight=5, n_estimators=1000, subsample=0.8; total time=  15.2s\n",
            "[CV] END colsample_bytree=0.6, learning_rate=0.2, max_depth=3, min_child_weight=5, n_estimators=1000, subsample=0.8; total time=  15.4s\n",
            "[CV] END colsample_bytree=0.6, learning_rate=0.2, max_depth=3, min_child_weight=5, n_estimators=1000, subsample=0.8; total time=  15.5s\n",
            "[CV] END colsample_bytree=0.8, learning_rate=0.1, max_depth=10, min_child_weight=3, n_estimators=1500, subsample=0.8; total time= 1.8min\n",
            "[CV] END colsample_bytree=0.8, learning_rate=0.1, max_depth=10, min_child_weight=3, n_estimators=1500, subsample=0.8; total time= 1.7min\n",
            "[CV] END colsample_bytree=0.8, learning_rate=0.1, max_depth=10, min_child_weight=3, n_estimators=1500, subsample=0.8; total time= 1.7min\n",
            "[CV] END colsample_bytree=1.0, learning_rate=0.05, max_depth=7, min_child_weight=1, n_estimators=1000, subsample=0.6; total time=  38.4s\n",
            "[CV] END colsample_bytree=1.0, learning_rate=0.05, max_depth=7, min_child_weight=1, n_estimators=1000, subsample=0.6; total time=  34.5s\n",
            "[CV] END colsample_bytree=1.0, learning_rate=0.05, max_depth=7, min_child_weight=1, n_estimators=1000, subsample=0.6; total time=  35.5s\n",
            "[CV] END colsample_bytree=1.0, learning_rate=0.1, max_depth=7, min_child_weight=5, n_estimators=1500, subsample=0.6; total time=  49.7s\n",
            "[CV] END colsample_bytree=1.0, learning_rate=0.1, max_depth=7, min_child_weight=5, n_estimators=1500, subsample=0.6; total time=  53.2s\n",
            "[CV] END colsample_bytree=1.0, learning_rate=0.1, max_depth=7, min_child_weight=5, n_estimators=1500, subsample=0.6; total time=  50.8s\n",
            "[CV] END colsample_bytree=1.0, learning_rate=0.05, max_depth=3, min_child_weight=3, n_estimators=1000, subsample=1.0; total time=  14.3s\n",
            "[CV] END colsample_bytree=1.0, learning_rate=0.05, max_depth=3, min_child_weight=3, n_estimators=1000, subsample=1.0; total time=  14.4s\n",
            "[CV] END colsample_bytree=1.0, learning_rate=0.05, max_depth=3, min_child_weight=3, n_estimators=1000, subsample=1.0; total time=  16.6s\n",
            "[CV] END colsample_bytree=0.8, learning_rate=0.01, max_depth=5, min_child_weight=5, n_estimators=500, subsample=0.8; total time=  11.9s\n",
            "[CV] END colsample_bytree=0.8, learning_rate=0.01, max_depth=5, min_child_weight=5, n_estimators=500, subsample=0.8; total time=  12.4s\n",
            "[CV] END colsample_bytree=0.8, learning_rate=0.01, max_depth=5, min_child_weight=5, n_estimators=500, subsample=0.8; total time=  12.3s\n",
            "[CV] END colsample_bytree=0.8, learning_rate=0.05, max_depth=10, min_child_weight=1, n_estimators=1500, subsample=0.8; total time= 1.8min\n",
            "[CV] END colsample_bytree=0.8, learning_rate=0.05, max_depth=10, min_child_weight=1, n_estimators=1500, subsample=0.8; total time= 1.8min\n",
            "[CV] END colsample_bytree=0.8, learning_rate=0.05, max_depth=10, min_child_weight=1, n_estimators=1500, subsample=0.8; total time= 1.8min\n",
            "[CV] END colsample_bytree=1.0, learning_rate=0.01, max_depth=3, min_child_weight=5, n_estimators=1500, subsample=1.0; total time=  19.6s\n",
            "[CV] END colsample_bytree=1.0, learning_rate=0.01, max_depth=3, min_child_weight=5, n_estimators=1500, subsample=1.0; total time=  25.5s\n",
            "[CV] END colsample_bytree=1.0, learning_rate=0.01, max_depth=3, min_child_weight=5, n_estimators=1500, subsample=1.0; total time=  22.7s\n",
            "[CV] END colsample_bytree=0.6, learning_rate=0.01, max_depth=7, min_child_weight=5, n_estimators=1000, subsample=0.8; total time=  31.5s\n",
            "[CV] END colsample_bytree=0.6, learning_rate=0.01, max_depth=7, min_child_weight=5, n_estimators=1000, subsample=0.8; total time=  33.1s\n",
            "[CV] END colsample_bytree=0.6, learning_rate=0.01, max_depth=7, min_child_weight=5, n_estimators=1000, subsample=0.8; total time=  32.9s\n",
            "[CV] END colsample_bytree=0.8, learning_rate=0.1, max_depth=10, min_child_weight=1, n_estimators=1500, subsample=0.8; total time= 1.8min\n",
            "[CV] END colsample_bytree=0.8, learning_rate=0.1, max_depth=10, min_child_weight=1, n_estimators=1500, subsample=0.8; total time= 1.8min\n",
            "[CV] END colsample_bytree=0.8, learning_rate=0.1, max_depth=10, min_child_weight=1, n_estimators=1500, subsample=0.8; total time= 1.8min\n",
            "[CV] END colsample_bytree=1.0, learning_rate=0.1, max_depth=5, min_child_weight=5, n_estimators=1500, subsample=0.6; total time=  33.0s\n",
            "[CV] END colsample_bytree=1.0, learning_rate=0.1, max_depth=5, min_child_weight=5, n_estimators=1500, subsample=0.6; total time=  35.7s\n",
            "[CV] END colsample_bytree=1.0, learning_rate=0.1, max_depth=5, min_child_weight=5, n_estimators=1500, subsample=0.6; total time=  35.1s\n",
            "[CV] END colsample_bytree=0.8, learning_rate=0.1, max_depth=7, min_child_weight=5, n_estimators=1000, subsample=0.8; total time=  34.4s\n",
            "[CV] END colsample_bytree=0.8, learning_rate=0.1, max_depth=7, min_child_weight=5, n_estimators=1000, subsample=0.8; total time=  30.8s\n",
            "[CV] END colsample_bytree=0.8, learning_rate=0.1, max_depth=7, min_child_weight=5, n_estimators=1000, subsample=0.8; total time=  30.1s\n",
            "[CV] END colsample_bytree=0.8, learning_rate=0.01, max_depth=5, min_child_weight=1, n_estimators=1000, subsample=0.6; total time=  23.4s\n",
            "[CV] END colsample_bytree=0.8, learning_rate=0.01, max_depth=5, min_child_weight=1, n_estimators=1000, subsample=0.6; total time=  27.0s\n",
            "[CV] END colsample_bytree=0.8, learning_rate=0.01, max_depth=5, min_child_weight=1, n_estimators=1000, subsample=0.6; total time=  23.0s\n",
            "[CV] END colsample_bytree=1.0, learning_rate=0.01, max_depth=10, min_child_weight=5, n_estimators=500, subsample=0.8; total time=  43.7s\n",
            "[CV] END colsample_bytree=1.0, learning_rate=0.01, max_depth=10, min_child_weight=5, n_estimators=500, subsample=0.8; total time=  43.9s\n",
            "[CV] END colsample_bytree=1.0, learning_rate=0.01, max_depth=10, min_child_weight=5, n_estimators=500, subsample=0.8; total time=  45.7s\n",
            "[CV] END colsample_bytree=0.6, learning_rate=0.01, max_depth=5, min_child_weight=3, n_estimators=1500, subsample=1.0; total time=  32.0s\n",
            "[CV] END colsample_bytree=0.6, learning_rate=0.01, max_depth=5, min_child_weight=3, n_estimators=1500, subsample=1.0; total time=  30.5s\n",
            "[CV] END colsample_bytree=0.6, learning_rate=0.01, max_depth=5, min_child_weight=3, n_estimators=1500, subsample=1.0; total time=  31.1s\n",
            "[CV] END colsample_bytree=0.6, learning_rate=0.01, max_depth=7, min_child_weight=3, n_estimators=500, subsample=1.0; total time=  20.2s\n",
            "[CV] END colsample_bytree=0.6, learning_rate=0.01, max_depth=7, min_child_weight=3, n_estimators=500, subsample=1.0; total time=  16.8s\n",
            "[CV] END colsample_bytree=0.6, learning_rate=0.01, max_depth=7, min_child_weight=3, n_estimators=500, subsample=1.0; total time=  16.1s\n",
            "[CV] END colsample_bytree=0.8, learning_rate=0.1, max_depth=10, min_child_weight=1, n_estimators=500, subsample=1.0; total time=  34.1s\n",
            "[CV] END colsample_bytree=0.8, learning_rate=0.1, max_depth=10, min_child_weight=1, n_estimators=500, subsample=1.0; total time=  32.4s\n",
            "[CV] END colsample_bytree=0.8, learning_rate=0.1, max_depth=10, min_child_weight=1, n_estimators=500, subsample=1.0; total time=  35.5s\n",
            "[CV] END colsample_bytree=0.8, learning_rate=0.1, max_depth=3, min_child_weight=5, n_estimators=1500, subsample=0.8; total time=  22.0s\n",
            "[CV] END colsample_bytree=0.8, learning_rate=0.1, max_depth=3, min_child_weight=5, n_estimators=1500, subsample=0.8; total time=  23.7s\n",
            "[CV] END colsample_bytree=0.8, learning_rate=0.1, max_depth=3, min_child_weight=5, n_estimators=1500, subsample=0.8; total time=  22.9s\n",
            "[CV] END colsample_bytree=0.6, learning_rate=0.2, max_depth=5, min_child_weight=3, n_estimators=1000, subsample=0.6; total time=  20.4s\n",
            "[CV] END colsample_bytree=0.6, learning_rate=0.2, max_depth=5, min_child_weight=3, n_estimators=1000, subsample=0.6; total time=  22.5s\n",
            "[CV] END colsample_bytree=0.6, learning_rate=0.2, max_depth=5, min_child_weight=3, n_estimators=1000, subsample=0.6; total time=  22.1s\n",
            "[CV] END colsample_bytree=0.6, learning_rate=0.2, max_depth=10, min_child_weight=5, n_estimators=500, subsample=1.0; total time=  26.3s\n",
            "[CV] END colsample_bytree=0.6, learning_rate=0.2, max_depth=10, min_child_weight=5, n_estimators=500, subsample=1.0; total time=  26.3s\n",
            "[CV] END colsample_bytree=0.6, learning_rate=0.2, max_depth=10, min_child_weight=5, n_estimators=500, subsample=1.0; total time=  25.7s\n",
            "[CV] END colsample_bytree=1.0, learning_rate=0.05, max_depth=3, min_child_weight=1, n_estimators=1000, subsample=1.0; total time=  14.3s\n",
            "[CV] END colsample_bytree=1.0, learning_rate=0.05, max_depth=3, min_child_weight=1, n_estimators=1000, subsample=1.0; total time=  14.2s\n",
            "[CV] END colsample_bytree=1.0, learning_rate=0.05, max_depth=3, min_child_weight=1, n_estimators=1000, subsample=1.0; total time=  14.1s\n",
            "[CV] END colsample_bytree=1.0, learning_rate=0.05, max_depth=7, min_child_weight=5, n_estimators=1500, subsample=0.6; total time=  52.7s\n",
            "[CV] END colsample_bytree=1.0, learning_rate=0.05, max_depth=7, min_child_weight=5, n_estimators=1500, subsample=0.6; total time=  47.6s\n",
            "[CV] END colsample_bytree=1.0, learning_rate=0.05, max_depth=7, min_child_weight=5, n_estimators=1500, subsample=0.6; total time=  50.8s\n",
            "[CV] END colsample_bytree=0.6, learning_rate=0.01, max_depth=10, min_child_weight=5, n_estimators=500, subsample=1.0; total time=  33.6s\n",
            "[CV] END colsample_bytree=0.6, learning_rate=0.01, max_depth=10, min_child_weight=5, n_estimators=500, subsample=1.0; total time=  33.9s\n",
            "[CV] END colsample_bytree=0.6, learning_rate=0.01, max_depth=10, min_child_weight=5, n_estimators=500, subsample=1.0; total time=  33.3s\n",
            "[CV] END colsample_bytree=0.8, learning_rate=0.01, max_depth=5, min_child_weight=5, n_estimators=500, subsample=1.0; total time=  10.6s\n",
            "[CV] END colsample_bytree=0.8, learning_rate=0.01, max_depth=5, min_child_weight=5, n_estimators=500, subsample=1.0; total time=  11.6s\n",
            "[CV] END colsample_bytree=0.8, learning_rate=0.01, max_depth=5, min_child_weight=5, n_estimators=500, subsample=1.0; total time=  13.8s\n",
            "Best Params: {'subsample': 1.0, 'n_estimators': 500, 'min_child_weight': 5, 'max_depth': 10, 'learning_rate': 0.01, 'colsample_bytree': 0.6}\n"
          ]
        },
        {
          "output_type": "stream",
          "name": "stderr",
          "text": [
            "WARNING:urllib3.connectionpool:Retrying (Retry(total=6, connect=7, read=6, redirect=7, status=7)) after connection broken by 'RemoteDisconnected('Remote end closed connection without response')': /eghib22/Store-Sales-Forecasting.mlflow/api/2.0/mlflow/runs/create\n"
          ]
        },
        {
          "output_type": "stream",
          "name": "stdout",
          "text": [
            "Validation WMAE: 3371.6049676738694\n",
            "Model, parameters, and WMAE logged to MLflow.\n",
            "🏃 View run XGB-Tuned at: https://dagshub.com/eghib22/Store-Sales-Forecasting.mlflow/#/experiments/0/runs/2a060b06d0fc48d3af9f329eb30af81c\n",
            "🧪 View experiment at: https://dagshub.com/eghib22/Store-Sales-Forecasting.mlflow/#/experiments/0\n"
          ]
        }
      ]
    },
    {
      "cell_type": "code",
      "source": [
        "def preprocess(df):\n",
        "    # Encode categorical\n",
        "    type_map = {'A': 0, 'B': 1, 'C': 2}\n",
        "    df = df.copy()  # Avoid SettingWithCopyWarning\n",
        "    df['Type'] = df['Type'].map(type_map)\n",
        "\n",
        "    # Convert 'Store' and 'Dept' to integers\n",
        "    df['Store'] = df['Store'].astype(int)\n",
        "    df['Dept'] = df['Dept'].astype(int)\n",
        "\n",
        "    # Rename IsHoliday_x to IsHoliday and drop IsHoliday_y\n",
        "    if 'IsHoliday_x' in df.columns:\n",
        "        df['IsHoliday'] = df['IsHoliday_x'].astype(int)\n",
        "        df = df.drop(columns=['IsHoliday_x', 'IsHoliday_y'])\n",
        "    elif 'IsHoliday' in df.columns: # Handle the case where the input is the test_merged\n",
        "        df['IsHoliday'] = df['IsHoliday'].astype(int)\n",
        "\n",
        "\n",
        "    # Date features\n",
        "    df['Year'] = df['Date'].dt.year\n",
        "    df['Month'] = df['Date'].dt.month\n",
        "    df['Week'] = df['Date'].dt.isocalendar().week\n",
        "    df['Day'] = df['Date'].dt.day\n",
        "    # Fill MarkDown NaNs\n",
        "    markdown_cols = ['MarkDown1', 'MarkDown2', 'MarkDown3', 'MarkDown4', 'MarkDown5']\n",
        "    for col in markdown_cols:\n",
        "        if col in df.columns:\n",
        "            df[col] = df[col].fillna(0)\n",
        "    # Drop Date column\n",
        "    df = df.drop(columns=['Date'])\n",
        "    return df"
      ],
      "metadata": {
        "id": "SW1wA3v2mVVd"
      },
      "execution_count": 1,
      "outputs": []
    },
    {
      "cell_type": "code",
      "source": [
        "import mlflow\n",
        "import mlflow.sklearn\n",
        "import xgboost as xgb\n",
        "import numpy as np\n",
        "import joblib\n",
        "from sklearn.pipeline import Pipeline\n",
        "from sklearn.preprocessing import FunctionTransformer\n",
        "\n",
        "# Set up pipeline manually (even if it's just preprocessing + model)\n",
        "preprocess_transformer = FunctionTransformer(preprocess)\n",
        "model = xgb.XGBRegressor(random_state=42, n_estimators=2000, verbosity=1)\n",
        "\n",
        "pipeline = Pipeline([\n",
        "    (\"preprocess\", preprocess_transformer),\n",
        "    (\"xgb\", model)\n",
        "])\n",
        "\n",
        "# Fit outside pipeline due to manual preprocessing already done\n",
        "model.fit(X_train, y_train)\n",
        "\n",
        "# Predict and evaluate\n",
        "y_pred = model.predict(X_val)\n",
        "wmae = np.sum(weights_val * np.abs(y_val - y_pred)) / np.sum(weights_val)\n",
        "print(\"Validation WMAE:\", wmae)\n",
        "\n",
        "# Start MLflow run\n",
        "with mlflow.start_run(run_name=\"XGBoost-StoreSales\"):\n",
        "    # Log parameters\n",
        "    mlflow.log_param(\"model_type\", \"XGBRegressor\")\n",
        "    mlflow.log_param(\"n_estimators\", model.n_estimators)\n",
        "    mlflow.log_param(\"random_state\", model.random_state)\n",
        "\n",
        "    # Log metric\n",
        "    mlflow.log_metric(\"WMAE\", wmae)\n",
        "\n",
        "    joblib.dump(pipeline, \"xgb_pipeline.pkl\")\n",
        "    mlflow.log_artifact(\"xgb_pipeline.pkl\")\n",
        "\n",
        "    print(\"✅ Parameters, metric, and pipeline logged to MLflow.\")\n"
      ],
      "metadata": {
        "id": "9u9L8A4Ha9Vo"
      },
      "execution_count": null,
      "outputs": []
    }
  ]
}